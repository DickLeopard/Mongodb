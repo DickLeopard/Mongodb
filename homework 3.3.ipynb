{
 "cells": [
  {
   "cell_type": "code",
   "execution_count": 1,
   "metadata": {
    "collapsed": true
   },
   "outputs": [],
   "source": [
    "import pymongo\n",
    "import sys\n",
    "\n",
    "connection = pymongo.MongoClient(\"mongodb://localhost\")\n",
    "db = connection.blog\n",
    "posts = db.posts"
   ]
  },
  {
   "cell_type": "code",
   "execution_count": 2,
   "metadata": {
    "collapsed": false
   },
   "outputs": [
    {
     "data": {
      "text/plain": [
       "{u'_id': ObjectId('557b456444204905e493aa2c'),\n",
       " u'author': u'pjxhZCI',\n",
       " u'body': u'GOmZqPtOqIVsBYFwfcfzUBAACyPMIx',\n",
       " u'comments': [],\n",
       " u'date': datetime.datetime(2015, 6, 12, 20, 47, 32, 402000),\n",
       " u'permalink': u'ywkBJAvChFegZbwJyNZpnIXGPgysNA',\n",
       " u'tags': [u'KLgGp', u'nCRSp', u'cKRnA'],\n",
       " u'title': u'ywkBJAvChFegZbwJyNZpnIXGPgysNA'}"
      ]
     },
     "execution_count": 2,
     "metadata": {},
     "output_type": "execute_result"
    }
   ],
   "source": [
    "a = posts.find_one({'comments':[]})\n",
    "a"
   ]
  },
  {
   "cell_type": "code",
   "execution_count": 3,
   "metadata": {
    "collapsed": false
   },
   "outputs": [],
   "source": [
    "permalink = a['permalink']"
   ]
  },
  {
   "cell_type": "code",
   "execution_count": 4,
   "metadata": {
    "collapsed": true
   },
   "outputs": [],
   "source": [
    "name = 'Zhao'\n",
    "body = 'BODY_1'"
   ]
  },
  {
   "cell_type": "code",
   "execution_count": 5,
   "metadata": {
    "collapsed": false
   },
   "outputs": [
    {
     "data": {
      "text/plain": [
       "{'author': 'Zhao', 'body': 'BODY_1'}"
      ]
     },
     "execution_count": 5,
     "metadata": {},
     "output_type": "execute_result"
    }
   ],
   "source": [
    "comment = {'author': name, 'body': body}\n",
    "comment"
   ]
  },
  {
   "cell_type": "code",
   "execution_count": 8,
   "metadata": {
    "collapsed": false
   },
   "outputs": [
    {
     "data": {
      "text/plain": [
       "<pymongo.results.UpdateResult at 0x104a7f8c0>"
      ]
     },
     "execution_count": 8,
     "metadata": {},
     "output_type": "execute_result"
    }
   ],
   "source": [
    "post_before = posts.find_one({'permalink':permalink})\n",
    "comment_1 = post_before['comments']\n",
    "comment_1.append(comment)\n",
    "comment_2 = comment_1\n",
    "post_after = post_before\n",
    "post_after['comments'] = comment_2\n",
    "posts.replace_one({'permalink':permalink}, post_after)"
   ]
  },
  {
   "cell_type": "code",
   "execution_count": 31,
   "metadata": {
    "collapsed": false
   },
   "outputs": [
    {
     "data": {
      "text/plain": [
       "{u'_id': ObjectId('557b456444204905e493aa2c'),\n",
       " u'author': u'pjxhZCI',\n",
       " u'body': u'GOmZqPtOqIVsBYFwfcfzUBAACyPMIx',\n",
       " u'comments': [],\n",
       " u'date': datetime.datetime(2015, 6, 12, 20, 47, 32, 402000),\n",
       " u'permalink': u'ywkBJAvChFegZbwJyNZpnIXGPgysNA',\n",
       " u'tags': [u'KLgGp', u'nCRSp', u'cKRnA'],\n",
       " u'title': u'ywkBJAvChFegZbwJyNZpnIXGPgysNA'}"
      ]
     },
     "execution_count": 31,
     "metadata": {},
     "output_type": "execute_result"
    }
   ],
   "source": [
    "post_before = posts.find_one({'permalink':permalink})\n",
    "post_before"
   ]
  },
  {
   "cell_type": "code",
   "execution_count": 32,
   "metadata": {
    "collapsed": false
   },
   "outputs": [
    {
     "data": {
      "text/plain": [
       "[]"
      ]
     },
     "execution_count": 32,
     "metadata": {},
     "output_type": "execute_result"
    }
   ],
   "source": [
    "comment_1 = post_before['comments']\n",
    "comment_1"
   ]
  },
  {
   "cell_type": "code",
   "execution_count": 33,
   "metadata": {
    "collapsed": false
   },
   "outputs": [
    {
     "data": {
      "text/plain": [
       "[{'author': 'Zhao', 'body': 'BODY_1'}]"
      ]
     },
     "execution_count": 33,
     "metadata": {},
     "output_type": "execute_result"
    }
   ],
   "source": [
    "comment_1.append(comment)\n",
    "comment_2 = comment_1\n",
    "comment_2"
   ]
  },
  {
   "cell_type": "code",
   "execution_count": 9,
   "metadata": {
    "collapsed": false
   },
   "outputs": [
    {
     "data": {
      "text/plain": [
       "{u'_id': ObjectId('557b456444204905e493aa2c'),\n",
       " u'author': u'pjxhZCI',\n",
       " u'body': u'GOmZqPtOqIVsBYFwfcfzUBAACyPMIx',\n",
       " u'comments': [{u'author': u'Zhao', u'body': u'BODY_1'},\n",
       "  {u'author': u'Zhao', u'body': u'BODY_1'}],\n",
       " u'date': datetime.datetime(2015, 6, 12, 20, 47, 32, 402000),\n",
       " u'permalink': u'ywkBJAvChFegZbwJyNZpnIXGPgysNA',\n",
       " u'tags': [u'KLgGp', u'nCRSp', u'cKRnA'],\n",
       " u'title': u'ywkBJAvChFegZbwJyNZpnIXGPgysNA'}"
      ]
     },
     "execution_count": 9,
     "metadata": {},
     "output_type": "execute_result"
    }
   ],
   "source": [
    "posts.find_one({'permalink':permalink})"
   ]
  },
  {
   "cell_type": "code",
   "execution_count": null,
   "metadata": {
    "collapsed": true
   },
   "outputs": [],
   "source": []
  }
 ],
 "metadata": {
  "kernelspec": {
   "display_name": "Python 2",
   "language": "python",
   "name": "python2"
  },
  "language_info": {
   "codemirror_mode": {
    "name": "ipython",
    "version": 2
   },
   "file_extension": ".py",
   "mimetype": "text/x-python",
   "name": "python",
   "nbconvert_exporter": "python",
   "pygments_lexer": "ipython2",
   "version": "2.7.9"
  }
 },
 "nbformat": 4,
 "nbformat_minor": 0
}
