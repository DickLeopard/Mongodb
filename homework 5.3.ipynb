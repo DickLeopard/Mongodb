{
 "cells": [
  {
   "cell_type": "code",
   "execution_count": 1,
   "metadata": {
    "collapsed": true
   },
   "outputs": [],
   "source": [
    "import pymongo\n",
    "import sys\n",
    "\n",
    "connection = pymongo.MongoClient(\"mongodb://localhost\")\n",
    "db = connection.test\n",
    "grades = db.grades"
   ]
  },
  {
   "cell_type": "code",
   "execution_count": 2,
   "metadata": {
    "collapsed": false
   },
   "outputs": [
    {
     "data": {
      "text/plain": [
       "{u'_id': ObjectId('50b59cd75bed76f46522c351'),\n",
       " u'class_id': 16.0,\n",
       " u'scores': [{u'score': 59.1805667559299, u'type': u'exam'},\n",
       "  {u'score': 47.58960202938239, u'type': u'quiz'},\n",
       "  {u'score': 6.48470951607214, u'type': u'homework'},\n",
       "  {u'score': 68.33519637418685, u'type': u'homework'},\n",
       "  {u'score': 78.53068038180965, u'type': u'homework'}],\n",
       " u'student_id': 0.0}"
      ]
     },
     "execution_count": 2,
     "metadata": {},
     "output_type": "execute_result"
    }
   ],
   "source": [
    "db.grades.find_one()"
   ]
  },
  {
   "cell_type": "code",
   "execution_count": 62,
   "metadata": {
    "collapsed": false
   },
   "outputs": [],
   "source": [
    "a = db.grades.aggregate([{'$unwind':'$scores'}, \n",
    "                         {'$match':{'scores.type':{'$in':['exam','homework']}}}, \n",
    "                         {'$group':{'_id':{'class':'$class_id', 'stu':'$student_id'}, \n",
    "                                    'average':{'$avg':'$scores.score'}}}, \n",
    "                         {'$group':{'_id':'$_id.class', 'avg':{'$avg':'$average'}}},\n",
    "                         {'$sort':{'avg':-1}},\n",
    "                         {'$project':{'_id':0, 'class':'$_id', 'avg':1}}])"
   ]
  },
  {
   "cell_type": "code",
   "execution_count": 42,
   "metadata": {
    "collapsed": false
   },
   "outputs": [
    {
     "name": "stdout",
     "output_type": "stream",
     "text": [
      "961\n"
     ]
    }
   ],
   "source": [
    "count = 0\n",
    "for x in a:\n",
    "    count +=1\n",
    "print count"
   ]
  },
  {
   "cell_type": "code",
   "execution_count": 63,
   "metadata": {
    "collapsed": false
   },
   "outputs": [
    {
     "name": "stdout",
     "output_type": "stream",
     "text": [
      "{u'avg': 64.50642324269175, u'class': 1.0}\n",
      "{u'avg': 58.08448767613548, u'class': 5.0}\n",
      "{u'avg': 57.6309834548989, u'class': 20.0}\n",
      "{u'avg': 56.069182787690956, u'class': 26.0}\n",
      "{u'avg': 55.568616934566236, u'class': 9.0}\n",
      "{u'avg': 55.36017373346245, u'class': 14.0}\n",
      "{u'avg': 53.6103459780166, u'class': 24.0}\n",
      "{u'avg': 53.458335393624246, u'class': 16.0}\n",
      "{u'avg': 52.738286239952366, u'class': 13.0}\n",
      "{u'avg': 52.655415610658586, u'class': 4.0}\n",
      "{u'avg': 52.42469177746091, u'class': 17.0}\n",
      "{u'avg': 51.93284830763039, u'class': 23.0}\n",
      "{u'avg': 51.7742498662982, u'class': 3.0}\n",
      "{u'avg': 50.6431769584895, u'class': 0.0}\n",
      "{u'avg': 50.59071928635092, u'class': 19.0}\n",
      "{u'avg': 50.58111308566053, u'class': 27.0}\n",
      "{u'avg': 49.952812365344215, u'class': 11.0}\n",
      "{u'avg': 49.30544060269724, u'class': 29.0}\n",
      "{u'avg': 48.877087980134746, u'class': 7.0}\n",
      "{u'avg': 48.414852429568235, u'class': 6.0}\n",
      "{u'avg': 47.663462173280614, u'class': 10.0}\n",
      "{u'avg': 47.22009466630579, u'class': 15.0}\n",
      "{u'avg': 45.415393233594564, u'class': 21.0}\n",
      "{u'avg': 43.99882003240129, u'class': 25.0}\n",
      "{u'avg': 43.47760542089679, u'class': 22.0}\n",
      "{u'avg': 43.40692681712815, u'class': 18.0}\n",
      "{u'avg': 42.71200726236122, u'class': 30.0}\n",
      "{u'avg': 41.59824801397288, u'class': 28.0}\n",
      "{u'avg': 41.303883810000194, u'class': 8.0}\n",
      "{u'avg': 40.62345969481146, u'class': 12.0}\n",
      "{u'avg': 37.61742117387635, u'class': 2.0}\n"
     ]
    }
   ],
   "source": [
    "for x in a:\n",
    "    print x"
   ]
  },
  {
   "cell_type": "code",
   "execution_count": null,
   "metadata": {
    "collapsed": true
   },
   "outputs": [],
   "source": []
  }
 ],
 "metadata": {
  "kernelspec": {
   "display_name": "Python 2",
   "language": "python",
   "name": "python2"
  },
  "language_info": {
   "codemirror_mode": {
    "name": "ipython",
    "version": 2
   },
   "file_extension": ".py",
   "mimetype": "text/x-python",
   "name": "python",
   "nbconvert_exporter": "python",
   "pygments_lexer": "ipython2",
   "version": "2.7.9"
  }
 },
 "nbformat": 4,
 "nbformat_minor": 0
}
