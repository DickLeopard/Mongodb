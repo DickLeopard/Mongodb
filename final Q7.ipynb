{
 "cells": [
  {
   "cell_type": "code",
   "execution_count": 1,
   "metadata": {
    "collapsed": true
   },
   "outputs": [],
   "source": [
    "import pymongo\n",
    "connection = pymongo.MongoClient()\n",
    "db = connection.ps\n",
    "albums = db.albums\n",
    "images = db.images"
   ]
  },
  {
   "cell_type": "code",
   "execution_count": 55,
   "metadata": {
    "collapsed": false
   },
   "outputs": [
    {
     "data": {
      "text/plain": [
       "44822"
      ]
     },
     "execution_count": 55,
     "metadata": {},
     "output_type": "execute_result"
    }
   ],
   "source": [
    "images.find({'tags': 'kittens'}).count()"
   ]
  },
  {
   "cell_type": "code",
   "execution_count": 6,
   "metadata": {
    "collapsed": false
   },
   "outputs": [
    {
     "data": {
      "text/plain": [
       "{u'_id': 4.0,\n",
       " u'images': [91.0,\n",
       "  493.0,\n",
       "  2313.0,\n",
       "  2404.0,\n",
       "  2766.0,\n",
       "  2831.0,\n",
       "  4390.0,\n",
       "  4474.0,\n",
       "  5034.0,\n",
       "  5944.0,\n",
       "  7983.0,\n",
       "  8166.0,\n",
       "  8550.0,\n",
       "  8834.0,\n",
       "  10844.0,\n",
       "  11326.0,\n",
       "  11511.0,\n",
       "  12157.0,\n",
       "  12754.0,\n",
       "  13813.0,\n",
       "  13943.0,\n",
       "  13973.0,\n",
       "  16948.0,\n",
       "  19127.0,\n",
       "  19521.0,\n",
       "  19712.0,\n",
       "  19965.0,\n",
       "  23404.0,\n",
       "  23446.0,\n",
       "  24035.0,\n",
       "  24427.0,\n",
       "  24930.0,\n",
       "  25266.0,\n",
       "  25692.0,\n",
       "  26136.0,\n",
       "  26397.0,\n",
       "  27626.0,\n",
       "  27725.0,\n",
       "  28006.0,\n",
       "  28832.0,\n",
       "  28956.0,\n",
       "  31006.0,\n",
       "  31097.0,\n",
       "  31101.0,\n",
       "  31759.0,\n",
       "  33211.0,\n",
       "  35295.0,\n",
       "  35766.0,\n",
       "  36546.0,\n",
       "  36584.0,\n",
       "  40351.0,\n",
       "  40676.0,\n",
       "  41467.0,\n",
       "  41587.0,\n",
       "  44493.0,\n",
       "  45934.0,\n",
       "  46321.0,\n",
       "  46707.0,\n",
       "  47214.0,\n",
       "  47816.0,\n",
       "  49132.0,\n",
       "  50864.0,\n",
       "  52609.0,\n",
       "  55558.0,\n",
       "  57222.0,\n",
       "  59838.0,\n",
       "  59845.0,\n",
       "  62128.0,\n",
       "  62490.0,\n",
       "  64205.0,\n",
       "  64259.0,\n",
       "  66048.0,\n",
       "  66147.0,\n",
       "  67160.0,\n",
       "  67662.0,\n",
       "  67736.0,\n",
       "  68994.0,\n",
       "  70451.0,\n",
       "  70546.0,\n",
       "  71599.0,\n",
       "  71973.0,\n",
       "  72190.0,\n",
       "  73774.0,\n",
       "  74671.0,\n",
       "  75384.0,\n",
       "  75656.0,\n",
       "  76757.0,\n",
       "  78166.0,\n",
       "  78737.0,\n",
       "  78766.0,\n",
       "  79434.0,\n",
       "  79909.0,\n",
       "  81009.0,\n",
       "  81546.0,\n",
       "  81889.0,\n",
       "  90575.0,\n",
       "  90880.0,\n",
       "  92610.0,\n",
       "  95136.0,\n",
       "  95325.0,\n",
       "  96089.0,\n",
       "  98097.0,\n",
       "  98486.0]}"
      ]
     },
     "execution_count": 6,
     "metadata": {},
     "output_type": "execute_result"
    }
   ],
   "source": [
    "albums.find_one({'_id':4})"
   ]
  },
  {
   "cell_type": "code",
   "execution_count": 28,
   "metadata": {
    "collapsed": false
   },
   "outputs": [],
   "source": [
    "a = albums.aggregate([{'$group':{\"_id\":\"null\", 'im':{'$addToSet': \"$images\"}}}])"
   ]
  },
  {
   "cell_type": "code",
   "execution_count": 30,
   "metadata": {
    "collapsed": false
   },
   "outputs": [],
   "source": [
    "b = list(a)"
   ]
  },
  {
   "cell_type": "code",
   "execution_count": 38,
   "metadata": {
    "collapsed": false
   },
   "outputs": [],
   "source": [
    "c = b[0]['im']"
   ]
  },
  {
   "cell_type": "code",
   "execution_count": 39,
   "metadata": {
    "collapsed": false
   },
   "outputs": [
    {
     "data": {
      "text/plain": [
       "1000"
      ]
     },
     "execution_count": 39,
     "metadata": {},
     "output_type": "execute_result"
    }
   ],
   "source": [
    "len(c)"
   ]
  },
  {
   "cell_type": "code",
   "execution_count": 45,
   "metadata": {
    "collapsed": false
   },
   "outputs": [],
   "source": [
    "image = reduce(lambda x,y: x+y, c)"
   ]
  },
  {
   "cell_type": "code",
   "execution_count": 46,
   "metadata": {
    "collapsed": false
   },
   "outputs": [
    {
     "data": {
      "text/plain": [
       "89737"
      ]
     },
     "execution_count": 46,
     "metadata": {},
     "output_type": "execute_result"
    }
   ],
   "source": [
    "len(image)"
   ]
  },
  {
   "cell_type": "code",
   "execution_count": 51,
   "metadata": {
    "collapsed": false
   },
   "outputs": [
    {
     "data": {
      "text/plain": [
       "{u'electionId': ObjectId('559bef9889493599e7d4ea7f'),\n",
       " u'lastOp': Timestamp(1436853035, 4635),\n",
       " u'n': 10263,\n",
       " u'ok': 1}"
      ]
     },
     "execution_count": 51,
     "metadata": {},
     "output_type": "execute_result"
    }
   ],
   "source": [
    "images.remove({'_id' :{'$nin':image}})"
   ]
  },
  {
   "cell_type": "code",
   "execution_count": 52,
   "metadata": {
    "collapsed": false
   },
   "outputs": [
    {
     "data": {
      "text/plain": [
       "89737"
      ]
     },
     "execution_count": 52,
     "metadata": {},
     "output_type": "execute_result"
    }
   ],
   "source": [
    "images.find().count()"
   ]
  },
  {
   "cell_type": "code",
   "execution_count": null,
   "metadata": {
    "collapsed": true
   },
   "outputs": [],
   "source": []
  }
 ],
 "metadata": {
  "kernelspec": {
   "display_name": "Python 2",
   "language": "python",
   "name": "python2"
  },
  "language_info": {
   "codemirror_mode": {
    "name": "ipython",
    "version": 2
   },
   "file_extension": ".py",
   "mimetype": "text/x-python",
   "name": "python",
   "nbconvert_exporter": "python",
   "pygments_lexer": "ipython2",
   "version": "2.7.9"
  }
 },
 "nbformat": 4,
 "nbformat_minor": 0
}
