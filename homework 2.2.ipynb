{
 "cells": [
  {
   "cell_type": "code",
   "execution_count": 1,
   "metadata": {
    "collapsed": false
   },
   "outputs": [],
   "source": [
    "import pymongo\n",
    "import sys\n",
    "\n",
    "connection = pymongo.MongoClient(\"mongodb://localhost\")\n",
    "db = connection.students\n",
    "grades = db.grades"
   ]
  },
  {
   "cell_type": "code",
   "execution_count": 163,
   "metadata": {
    "collapsed": true
   },
   "outputs": [],
   "source": [
    "for i in xrange(0,200):\n",
    "    query = {'type': 'homework', 'student_id': i}\n",
    "    cursor = grades.find_one_and_delete(query, sort=[('score', pymongo.ASCENDING)])"
   ]
  },
  {
   "cell_type": "code",
   "execution_count": 3,
   "metadata": {
    "collapsed": false
   },
   "outputs": [
    {
     "data": {
      "text/plain": [
       "800"
      ]
     },
     "execution_count": 3,
     "metadata": {},
     "output_type": "execute_result"
    }
   ],
   "source": [
    "grades.count()"
   ]
  },
  {
   "cell_type": "code",
   "execution_count": 172,
   "metadata": {
    "collapsed": false
   },
   "outputs": [
    {
     "name": "stdout",
     "output_type": "stream",
     "text": [
      "{u'student_id': 0.0, u'_id': ObjectId('50906d7fa3c412bb040eb577'), u'type': u'exam', u'score': 54.6535436362647}\n",
      "{u'student_id': 0.0, u'_id': ObjectId('50906d7fa3c412bb040eb578'), u'type': u'quiz', u'score': 31.95004496742112}\n",
      "{u'student_id': 0.0, u'_id': ObjectId('50906d7fa3c412bb040eb579'), u'type': u'homework', u'score': 14.8504576811645}\n",
      "{u'student_id': 0.0, u'_id': ObjectId('50906d7fa3c412bb040eb57a'), u'type': u'homework', u'score': 63.98402553675503}\n",
      "{u'student_id': 1.0, u'_id': ObjectId('50906d7fa3c412bb040eb57b'), u'type': u'exam', u'score': 74.20010837299897}\n",
      "{u'student_id': 1.0, u'_id': ObjectId('50906d7fa3c412bb040eb57c'), u'type': u'quiz', u'score': 96.76851542258362}\n",
      "{u'student_id': 1.0, u'_id': ObjectId('50906d7fa3c412bb040eb57d'), u'type': u'homework', u'score': 21.33260810416115}\n",
      "{u'student_id': 1.0, u'_id': ObjectId('50906d7fa3c412bb040eb57e'), u'type': u'homework', u'score': 44.31667452616328}\n"
     ]
    }
   ],
   "source": [
    "for i in xrange(2):    \n",
    "    for doc in grades.find({'student_id':i}): \n",
    "        print doc\n",
    "# Before removing, 800 entries"
   ]
  },
  {
   "cell_type": "code",
   "execution_count": 170,
   "metadata": {
    "collapsed": false
   },
   "outputs": [
    {
     "name": "stdout",
     "output_type": "stream",
     "text": [
      "{u'student_id': 0.0, u'_id': ObjectId('50906d7fa3c412bb040eb577'), u'type': u'exam', u'score': 54.6535436362647}\n",
      "{u'student_id': 0.0, u'_id': ObjectId('50906d7fa3c412bb040eb578'), u'type': u'quiz', u'score': 31.95004496742112}\n",
      "{u'student_id': 0.0, u'_id': ObjectId('50906d7fa3c412bb040eb57a'), u'type': u'homework', u'score': 63.98402553675503}\n",
      "{u'student_id': 1.0, u'_id': ObjectId('50906d7fa3c412bb040eb57b'), u'type': u'exam', u'score': 74.20010837299897}\n",
      "{u'student_id': 1.0, u'_id': ObjectId('50906d7fa3c412bb040eb57c'), u'type': u'quiz', u'score': 96.76851542258362}\n",
      "{u'student_id': 1.0, u'_id': ObjectId('50906d7fa3c412bb040eb57e'), u'type': u'homework', u'score': 44.31667452616328}\n"
     ]
    }
   ],
   "source": [
    "for i in xrange(2):    \n",
    "    for doc in grades.find({'student_id':i}): \n",
    "        print doc\n",
    "# After removing, 600 entries"
   ]
  },
  {
   "cell_type": "code",
   "execution_count": 4,
   "metadata": {
    "collapsed": false
   },
   "outputs": [
    {
     "data": {
      "text/plain": [
       "{u'_id': ObjectId('50906d7fa3c412bb040eb577'),\n",
       " u'score': 54.6535436362647,\n",
       " u'student_id': 0.0,\n",
       " u'type': u'exam'}"
      ]
     },
     "execution_count": 4,
     "metadata": {},
     "output_type": "execute_result"
    }
   ],
   "source": [
    "grades.find_one()\n"
   ]
  },
  {
   "cell_type": "code",
   "execution_count": 5,
   "metadata": {
    "collapsed": true
   },
   "outputs": [],
   "source": [
    "a = grades.find_one()\n"
   ]
  },
  {
   "cell_type": "code",
   "execution_count": 6,
   "metadata": {
    "collapsed": false
   },
   "outputs": [
    {
     "name": "stdout",
     "output_type": "stream",
     "text": [
      "{u'student_id': 0.0, u'_id': ObjectId('50906d7fa3c412bb040eb577'), u'type': u'exam', u'score': 54.6535436362647}\n"
     ]
    }
   ],
   "source": [
    "print a"
   ]
  },
  {
   "cell_type": "code",
   "execution_count": 7,
   "metadata": {
    "collapsed": false
   },
   "outputs": [
    {
     "data": {
      "text/plain": [
       "u'exam'"
      ]
     },
     "execution_count": 7,
     "metadata": {},
     "output_type": "execute_result"
    }
   ],
   "source": [
    "a['type']"
   ]
  },
  {
   "cell_type": "code",
   "execution_count": null,
   "metadata": {
    "collapsed": true
   },
   "outputs": [],
   "source": []
  }
 ],
 "metadata": {
  "kernelspec": {
   "display_name": "Python 2",
   "language": "python",
   "name": "python2"
  },
  "language_info": {
   "codemirror_mode": {
    "name": "ipython",
    "version": 2
   },
   "file_extension": ".py",
   "mimetype": "text/x-python",
   "name": "python",
   "nbconvert_exporter": "python",
   "pygments_lexer": "ipython2",
   "version": "2.7.9"
  }
 },
 "nbformat": 4,
 "nbformat_minor": 0
}
