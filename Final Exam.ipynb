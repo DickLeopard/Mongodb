{
 "cells": [
  {
   "cell_type": "code",
   "execution_count": 1,
   "metadata": {
    "collapsed": true
   },
   "outputs": [],
   "source": [
    "# Question 1\n",
    "import pymongo\n",
    "\n",
    "connection = pymongo.MongoClient()\n",
    "db = connection.enron\n",
    "messages = db.messages "
   ]
  },
  {
   "cell_type": "code",
   "execution_count": 2,
   "metadata": {
    "collapsed": false
   },
   "outputs": [],
   "source": [
    " a = messages.find({'headers.From': 'andrew.fastow@enron.com', 'headers.To': 'jeff.skilling@enron.com'})"
   ]
  },
  {
   "cell_type": "code",
   "execution_count": 3,
   "metadata": {
    "collapsed": false
   },
   "outputs": [
    {
     "data": {
      "text/plain": [
       "3"
      ]
     },
     "execution_count": 3,
     "metadata": {},
     "output_type": "execute_result"
    }
   ],
   "source": [
    "count = 0\n",
    "for x in a:\n",
    "    count += 1\n",
    "count"
   ]
  },
  {
   "cell_type": "code",
   "execution_count": 13,
   "metadata": {
    "collapsed": false
   },
   "outputs": [
    {
     "data": {
      "text/plain": [
       "{u'_id': ObjectId('4f16fc9ed1e2d32371006b3f'),\n",
       " u'body': u'Attached is a revised Credit Watch listing as of 4/23/01.   Please note that \\nNUI Utilities, Inc. has been placed on \"No Trades\".\\nIf there are any personnel in your group that were not included in this \\ndistribution, please insure that they receive a copy of this report.\\nTo add additional people to this distribution, or if this report has been \\nsent to you in error, please contact Veronica Espinoza at x6-6002.\\nFor other questions, please contact Bill Bradford at x3-3831, Russell Diamond \\nat x5-7095, or Brant Reves at x3-9897.\\n\\n',\n",
       " u'filename': u'4231.',\n",
       " u'headers': {u'Content-Transfer-Encoding': u'7bit',\n",
       "  u'Content-Type': u'text/plain; charset=us-ascii',\n",
       "  u'Date': datetime.datetime(2001, 4, 23, 10, 24),\n",
       "  u'From': u'veronica.espinoza@enron.com',\n",
       "  u'Message-ID': u'<9087121.1075856046223.JavaMail.evans@thyme>',\n",
       "  u'Mime-Version': u'1.0',\n",
       "  u'Subject': u'Credit Watch List--4/23/01',\n",
       "  u'To': [u'debbie.brackett@enron.com',\n",
       "   u'william.bradford@enron.com',\n",
       "   u'andrew.conner@enron.com',\n",
       "   u'genia.fitzgerald@enron.com',\n",
       "   u'patrick.hanse@enron.com',\n",
       "   u'kelly.lovvorn@enron.com',\n",
       "   u'melissa.murphy@enron.com',\n",
       "   u'kyle.schultz@enron.com',\n",
       "   u'kim.theriot@enron.com',\n",
       "   u'greg.wolfe@enron.com',\n",
       "   u'christian.yoder@enron.com',\n",
       "   u'recipients@enron.com',\n",
       "   u'winston.cheng@enron.com',\n",
       "   u'paul.choi@enron.com',\n",
       "   u'david.fairley@enron.com',\n",
       "   u'mike.miller@enron.com',\n",
       "   u'patrice.mims@enron.com',\n",
       "   u'steve.neal@enron.com',\n",
       "   u'kimberly.olinger@enron.com',\n",
       "   u'charles.otto@enron.com',\n",
       "   u'lee.papayoti@enron.com',\n",
       "   u'david.parquet@enron.com',\n",
       "   u'susan.pereira@enron.com',\n",
       "   u'beth.perlman@enron.com',\n",
       "   u'bo.petersen@enron.com',\n",
       "   u'sylvia.pollan@enron.com',\n",
       "   u'brent.price@enron.com',\n",
       "   u'daniel.reck@enron.com',\n",
       "   u'leslie.reeves@enron.com',\n",
       "   u'brian.riley@enron.com',\n",
       "   u'andrea.ring@enron.com',\n",
       "   u'suzy.robey@enron.com',\n",
       "   u'elizabeth.sager@enron.com',\n",
       "   u'steve.schneider@enron.com',\n",
       "   u'recipients@enron.com',\n",
       "   u'sara.shackleton@enron.com',\n",
       "   u'jeffrey.shankman@enron.com',\n",
       "   u'hunter.shively@enron.com',\n",
       "   u'george.smith@enron.com',\n",
       "   u'mary.smith@enron.com',\n",
       "   u'jefferson.sorenson@enron.com',\n",
       "   u'steven.south@enron.com',\n",
       "   u'lauri.allen@enron.com',\n",
       "   u'phillip.allen@enron.com',\n",
       "   u'thresa.allen@enron.com',\n",
       "   u'john.arnold@enron.com',\n",
       "   u'berney.aucoin@enron.com',\n",
       "   u'edward.baughman@enron.com',\n",
       "   u'sally.beck@enron.com',\n",
       "   u'bob.bowen@enron.com',\n",
       "   u'sandra.brawner@enron.com',\n",
       "   u'greg.brazaitis@enron.com',\n",
       "   u'craig.breslau@enron.com',\n",
       "   u'gary.bryan@enron.com',\n",
       "   u'cary.carrabine@enron.com',\n",
       "   u'recipients@enron.com',\n",
       "   u'brad.coleman@enron.com',\n",
       "   u'recipients@enron.com',\n",
       "   u'robert.cotten@enron.com',\n",
       "   u'tom.donohoe@enron.com',\n",
       "   u'james.ducote@enron.com',\n",
       "   u'michael.etringer@enron.com',\n",
       "   u'david.fairley@enron.com',\n",
       "   u'chris.foster@enron.com',\n",
       "   u'kate.fraser@enron.com',\n",
       "   u'sheila.glover@enron.com',\n",
       "   u'recipients@enron.com',\n",
       "   u'edward.gottlob@enron.com',\n",
       "   u'lance.halgren@enron.com',\n",
       "   u'nicole.cortez@enron.com',\n",
       "   u'recipients@enron.com',\n",
       "   u'greg.mcclendon@enron.com',\n",
       "   u'brad.mckay@enron.com',\n",
       "   u'stuart.staley@enron.com',\n",
       "   u'jung-suk.suh@enron.com',\n",
       "   u'colleen.sullivan@enron.com',\n",
       "   u'mark.taylor@enron.com',\n",
       "   u'jane.tholt@enron.com',\n",
       "   u'jake.thomas@enron.com',\n",
       "   u'fred.lagrasta@enron.com',\n",
       "   u'janelle.scheuer@enron.com',\n",
       "   u'george.gilbert@enron.com',\n",
       "   u'jennifer.fraser@enron.com',\n",
       "   u'paul.lucci@enron.com',\n",
       "   u'recipients@enron.com',\n",
       "   u'lisa.mellencamp@enron.com',\n",
       "   u'tana.jones@enron.com',\n",
       "   u'shonnie.daniel@enron.com',\n",
       "   u'barbara.gray@enron.com',\n",
       "   u'steve.hooser@enron.com',\n",
       "   u'peggy.banczak@enron.com',\n",
       "   u'mary.cook@enron.com',\n",
       "   u'shawna.flynn@enron.com',\n",
       "   u'gerald.nemec@enron.com',\n",
       "   u'sandi.braband@enron.com',\n",
       "   u'ann.white@enron.com',\n",
       "   u'robert.walker@enron.com',\n",
       "   u'mary.ogden@enron.com',\n",
       "   u'kimberlee.bennick@enron.com',\n",
       "   u'carol.clair@enron.com',\n",
       "   u'nathan.hlavaty@enron.com',\n",
       "   u'melissa.graves@enron.com',\n",
       "   u'susan.smith@enron.com',\n",
       "   u'vance.taylor@enron.com',\n",
       "   u'donald.reinhardt@enron.com',\n",
       "   u'john.taylor@enron.com',\n",
       "   u'dick.jenkins@enron.com',\n",
       "   u'fletcher.sturm@enron.com',\n",
       "   u'gary.lamphier@enron.com',\n",
       "   u'geoff.storey@enron.com',\n",
       "   u'keith.holst@enron.com',\n",
       "   u'peter.keavey@enron.com',\n",
       "   u'mike.grigsby@enron.com',\n",
       "   u'recipients@enron.com',\n",
       "   u'marc.horowitz@enron.com',\n",
       "   u'andrew.lewis@enron.com',\n",
       "   u'debra.perlingiere@enron.com',\n",
       "   u'maureen.smith@enron.com',\n",
       "   u'sarah.mulholland@enron.com',\n",
       "   u'lucy.ortiz@enron.com',\n",
       "   u'barend.vanderhorst@enron.com',\n",
       "   u'james.barker@enron.com',\n",
       "   u'matthew.fleming@enron.com',\n",
       "   u'marde.driscoll@enron.com',\n",
       "   u'recipients@enron.com',\n",
       "   u'recipients@enron.com',\n",
       "   u'recipients@enron.com',\n",
       "   u'sunil.dalal@enron.com',\n",
       "   u'stacy.dickson@enron.com',\n",
       "   u'linda.ewing@enron.com',\n",
       "   u'eric.gillaspie@enron.com',\n",
       "   u'tammi.depaolis@enron.com',\n",
       "   u'recipients@enron.com',\n",
       "   u'joanie.ngo@enron.com',\n",
       "   u'kyle.lilly@enron.com',\n",
       "   u'recipients@enron.com',\n",
       "   u'kristen.hanson@enron.com',\n",
       "   u'katherine.herrera@enron.com',\n",
       "   u'linda.ewing@enron.com',\n",
       "   u'kevin.bosse@enron.com',\n",
       "   u'william.stuart@enron.com',\n",
       "   u'isabel.resendez@enron.com',\n",
       "   u'david.eubanks@enron.com',\n",
       "   u'drew.hill@enron.com',\n",
       "   u'sheetal.patel@enron.com',\n",
       "   u'john.lavorato@enron.com',\n",
       "   u\"martin.o'leary@enron.com\",\n",
       "   u'souad.mahmassani@enron.com',\n",
       "   u'john.singer@enron.com',\n",
       "   u'jay.knoblauh@enron.com',\n",
       "   u'recipients@enron.com',\n",
       "   u'brad.horn@enron.com',\n",
       "   u'robert.shiring@enron.com',\n",
       "   u'gregory.schockling@enron.com',\n",
       "   u'dan.mccairns@enron.com',\n",
       "   u'ragan.bond@enron.com',\n",
       "   u'ina.rangel@enron.com',\n",
       "   u'andrew.greer@enron.com',\n",
       "   u'george.hope@enron.com',\n",
       "   u'recipients@enron.com',\n",
       "   u'recipients@enron.com',\n",
       "   u'andrea.hauser@enron.com',\n",
       "   u'recipients@enron.com',\n",
       "   u'lisa.gillette@enron.com',\n",
       "   u'recipients@enron.com',\n",
       "   u'recipients@enron.com',\n",
       "   u'recipients@enron.com',\n",
       "   u'gerald.lofton@enron.com',\n",
       "   u'cheryl.marshall@enron.com',\n",
       "   u'jack.simunek@enron.com',\n",
       "   u'candace.bywaters@enron.com',\n",
       "   u'kenneth.kaase@enron.com',\n",
       "   u'ron.green@enron.com',\n",
       "   u'jennifer.blay@enron.com',\n",
       "   u'audrey.cook@enron.com',\n",
       "   u'teresa.seibel@enron.com',\n",
       "   u'dennis.benevides@enron.com',\n",
       "   u'tracy.ngo@enron.com',\n",
       "   u'christy.sweeney@enron.com',\n",
       "   u'joanne.harris@enron.com',\n",
       "   u'recipients@enron.com',\n",
       "   u'recipients@enron.com',\n",
       "   u'recipients@enron.com',\n",
       "   u'matthew.fleming@enron.com',\n",
       "   u'todd.lambert@enron.com',\n",
       "   u'recipients@enron.com',\n",
       "   u'paul.tate@enron.com',\n",
       "   u'marde.driscoll@enron.com',\n",
       "   u'laura.arnold@enron.com',\n",
       "   u'jay.blaine@enron.com',\n",
       "   u'zarin.imam@enron.com',\n",
       "   u'jesus.guerra@enron.com',\n",
       "   u'alain.diza@enron.com',\n",
       "   u'recipients@enron.com',\n",
       "   u'recipients@enron.com',\n",
       "   u'christina.bangle@enron.com',\n",
       "   u'rhonda.smith@enron.com',\n",
       "   u'amanda.boettcher@enron.com',\n",
       "   u'tom.moran@enron.com',\n",
       "   u'russell.diamond@enron.com',\n",
       "   u'sherry.pendegraft@enron.com',\n",
       "   u'lisa.valderrama@enron.com',\n",
       "   u'tim.weithman@enron.com',\n",
       "   u'c.griffin@enron.com',\n",
       "   u'lester.rawson@enron.com',\n",
       "   u'bob.hall@enron.com',\n",
       "   u'recipients@enron.com',\n",
       "   u'bryce.baxter@enron.com',\n",
       "   u'bernard.dahanayake@enron.com',\n",
       "   u'richard.deming@enron.com',\n",
       "   u'janie.aguayo@enron.com',\n",
       "   u'derek.bailey@enron.com',\n",
       "   u'diane.anderson@enron.com',\n",
       "   u'larry.hunter@enron.com',\n",
       "   u'ellen.wallumrod@enron.com',\n",
       "   u'bob.bowen@enron.com',\n",
       "   u'lisa.lees@enron.com',\n",
       "   u'stephanie.sever@enron.com',\n",
       "   u'daniel.salinas@enron.com',\n",
       "   u'josephine.logan@enron.com',\n",
       "   u'joni.fisher@enron.com',\n",
       "   u'meredith.eggleston@enron.com',\n",
       "   u'vladimir.gorny@enron.com',\n",
       "   u'cindy.vachuska@enron.com',\n",
       "   u'russell.diamond@enron.com',\n",
       "   u'veronica.espinoza@enron.com',\n",
       "   u'gregg.penman@enron.com',\n",
       "   u'angelo.miroballi@enron.com',\n",
       "   u'jess.hewitt@enron.com',\n",
       "   u'melissa.ratnala@enron.com',\n",
       "   u'jason.williams@enron.com'],\n",
       "  u'X-FileName': u'sbeck.nsf',\n",
       "  u'X-Folder': u'\\\\Sally_Beck_Jun2001\\\\Notes Folders\\\\Discussion threads',\n",
       "  u'X-From': u'Veronica Espinoza',\n",
       "  u'X-Origin': u'Beck-S',\n",
       "  u'X-To': u\"Debbie R Brackett, William S Bradford, Andrew R Conner, Genia FitzGerald, Patrick Hanse, Kelly Lovvorn, Melissa Ann Murphy, Kyle Schultz, Kim S Theriot, Greg Wolfe, Christian Yoder, RECIPIENTS, Winston Cheng, Paul Choi, David L Fairley, Mike J Miller, Patrice L Mims, Steve Neal, Kimberly S Olinger, Charles H Otto, Lee L Papayoti, David Parquet, Susan W Pereira, Beth Perlman, Bo Petersen, Sylvia S Pollan, Brent A Price, Daniel Reck, Leslie Reeves, Brian M Riley, Andrea Ring, Suzy Robey, Elizabeth Sager, Steve HPL Schneider, RECIPIENTS, Sara Shackleton, Jeffrey A Shankman, Hunter S Shively, George Smith, Mary M Smith, Jefferson D Sorenson, Steven P South, Lauri A Allen, Phillip K Allen, Thresa A Allen, John Arnold, Berney C Aucoin, Edward D Baughman, Sally Beck, Bob Bowen, Sandra F Brawner, Greg Brazaitis, Craig Breslau, Gary Bryan, Cary M Carrabine, RECIPIENTS, Brad Coleman, RECIPIENTS, Robert Cotten, Tom Donohoe, James I Ducote, Michael Etringer, David L Fairley, Chris H Foster, Kate Fraser, Sheila Glover, RECIPIENTS, Edward D Gottlob, Lance Halgren, Nicole Cortez, RECIPIENTS, Greg McClendon, Brad McKay, Stuart Staley, Jung-Suk Suh, Colleen Sullivan, Mark Taylor, Jane M Tholt, Jake Thomas, Fred Lagrasta, Janelle Scheuer, George N Gilbert, Jennifer Fraser, Paul T Lucci, RECIPIENTS, Lisa Mellencamp, Tana Jones, Shonnie Daniel, Barbara N Gray, Steve Van Hooser, Peggy Banczak, Mary Cook, Shawna Flynn, Gerald Nemec, Sandi M Braband, Ann Elizabeth White, Robert Walker, Mary Ogden, Kimberlee A Bennick, Carol St Clair, Nathan L Hlavaty, Melissa Graves, Susan Smith, Vance L Taylor, Donald P Reinhardt, John Craig Taylor, Dick Jenkins, Fletcher J Sturm, Gary W Lamphier, Geoff Storey, Keith Holst, Peter F Keavey, Mike Grigsby, RECIPIENTS, Marc Horowitz, Andrew H Lewis, Debra Perlingiere, Maureen Smith, Sarah Mulholland, Lucy Ortiz, Barend VanderHorst, James R Barker, Matthew B Fleming, Marde L Driscoll, RECIPIENTS, RECIPIENTS, RECIPIENTS, Sunil Dalal, Stacy E Dickson, Linda J Ewing, Eric Gillaspie, Tammi DePaolis, RECIPIENTS, Joanie H Ngo, Kyle R Lilly, RECIPIENTS, Kristen J Hanson, Katherine Herrera, Linda J Ewing, Kevin Bosse, William Stuart, Isabel Y Resendez, David W Eubanks, Drew Hill, Sheetal Patel, John J Lavorato, Martin O'Leary, Souad Mahmassani, John M Singer, Jay Knoblauh, RECIPIENTS, Brad Horn, Robert Shiring, Gregory Schockling, Dan McCairns, Ragan Bond, Ina Rangel, Andrew Greer, George Hope, RECIPIENTS, RECIPIENTS, Andrea Hauser, RECIPIENTS, Lisa Gillette, RECIPIENTS, RECIPIENTS, RECIPIENTS, Gerald Lofton, Cheryl Lantz Marshall, Jack Simunek, Candace L Bywaters, Kenneth W Kaase, Ron Green, Jennifer Blay, Audrey Cook, Teresa Seibel, Dennis Benevides, Tracy Ngo, Christy Sweeney, JoAnne Harris, rmservices@Enron, RECIPIENTS, RECIPIENTS, RECIPIENTS, Matthew B Fleming, Todd W Lambert, RECIPIENTS, Paul Tate, Marde L Driscoll, Laura R Arnold, Jay Blaine, Zarin Imam, Jesus Guerra, Alain Diza, RECIPIENTS, RECIPIENTS, Christina Bangle, Rhonda Smith, Amanda Boettcher, Tom Moran, Russell Diamond, Sherry Pendegraft, Lisa Valderrama, Tim Weithman, C Kyle Griffin, Lester Rawson, Bob M Hall, RECIPIENTS, Bryce Baxter, Bernard Dahanayake, Richard Deming, Janie Aguayo, Derek Bailey, Diane Anderson, Larry Joe Hunter, Ellen Wallumrod, Bob Bowen, Lisa Lees, Stephanie Sever, Daniel Salinas, Josephine M Logan, Joni Fisher, Meredith M Eggleston, Vladimir Gorny, Cindy Vachuska, Russell Diamond, Veronica Espinoza, Gregg Penman, Angelo Miroballi, Jess Hewitt, Melissa K Ratnala, Jason R Williams\",\n",
       "  u'X-bcc': u'',\n",
       "  u'X-cc': u''},\n",
       " u'mailbox': u'beck-s',\n",
       " u'subFolder': u'discussion_threads'}"
      ]
     },
     "execution_count": 13,
     "metadata": {},
     "output_type": "execute_result"
    }
   ],
   "source": [
    "# Question \n",
    "messages.find_one({'headers.To': 'recipients@enron.com'})"
   ]
  },
  {
   "cell_type": "code",
   "execution_count": 11,
   "metadata": {
    "collapsed": false
   },
   "outputs": [
    {
     "data": {
      "text/plain": [
       "116"
      ]
     },
     "execution_count": 11,
     "metadata": {},
     "output_type": "execute_result"
    }
   ],
   "source": [
    "b = messages.find({'headers.From': 'veronica.espinoza@enron.com', 'headers.To': 'recipients@enron.com'})\n",
    "count = 0\n",
    "for x in b:\n",
    "    count += 1\n",
    "count"
   ]
  },
  {
   "cell_type": "code",
   "execution_count": null,
   "metadata": {
    "collapsed": true
   },
   "outputs": [],
   "source": [
    "a. 750\n",
    "b. 616\n",
    "c. 679\n",
    "d. 646\n",
    "e. 567\n",
    "f. 550\n"
   ]
  },
  {
   "cell_type": "code",
   "execution_count": 7,
   "metadata": {
    "collapsed": false
   },
   "outputs": [],
   "source": [
    "a = messages.aggregate([\n",
    "{'$project':{'_id':0, 'from':\"$headers.From\", 'to':\"$headers.To\"}},\n",
    "{'$unwind': \"$to\"},\n",
    "{'$group': {'_id':{'from':\"$from\",'to':\"$to\"}, 'cnt':{'$sum':1} }}, {'$sort':{'cnt':-1}}, \n",
    "{'$limit': 6}])"
   ]
  },
  {
   "cell_type": "code",
   "execution_count": 8,
   "metadata": {
    "collapsed": false
   },
   "outputs": [
    {
     "name": "stdout",
     "output_type": "stream",
     "text": [
      "{u'cnt': 2181, u'_id': {u'to': u'recipients@enron.com', u'from': u'veronica.espinoza@enron.com'}}\n",
      "{u'cnt': 974, u'_id': {u'to': u'richard.shapiro@enron.com', u'from': u'susan.mara@enron.com'}}\n",
      "{u'cnt': 750, u'_id': {u'to': u'jeff.dasovich@enron.com', u'from': u'susan.mara@enron.com'}}\n",
      "{u'cnt': 708, u'_id': {u'to': u'james.wright@enron.com', u'from': u'susan.mara@enron.com'}}\n",
      "{u'cnt': 679, u'_id': {u'to': u'soblander@carrfut.com', u'from': u'soblander@carrfut.com'}}\n",
      "{u'cnt': 648, u'_id': {u'to': u'james.steffes@enron.com', u'from': u'susan.mara@enron.com'}}\n"
     ]
    }
   ],
   "source": [
    "for x in a: \n",
    "    print x"
   ]
  },
  {
   "cell_type": "code",
   "execution_count": 14,
   "metadata": {
    "collapsed": false
   },
   "outputs": [
    {
     "data": {
      "text/plain": [
       "{u'electionId': ObjectId('559bef9889493599e7d4ea7f'),\n",
       " u'lastOp': Timestamp(1436841810, 1),\n",
       " u'n': 1,\n",
       " u'nModified': 1,\n",
       " u'ok': 1,\n",
       " 'updatedExisting': True}"
      ]
     },
     "execution_count": 14,
     "metadata": {},
     "output_type": "execute_result"
    }
   ],
   "source": [
    "messages.update({\"headers.Message-ID\": \"<8147308.1075851042335.JavaMail.evans@thyme>\"},\n",
    "                {'$push':{'headers.To': 'mrpotatohead@10gen.com'}})"
   ]
  },
  {
   "cell_type": "code",
   "execution_count": 16,
   "metadata": {
    "collapsed": false
   },
   "outputs": [
    {
     "data": {
      "text/plain": [
       "{u'_id': ObjectId('4f16fd52d1e2d32371039e44'),\n",
       " u'body': u'SK - I forwarded this to the group too.  mm \\n\\nThe Southeast RTO orders are out and have followed through with what we \\nexpected from the discussion at the FERC meeting.\\n\\nThe SPP and Entergy RTO proposals have been rejected because they fail to \\nsatisfy the scope and configuration requirements of Order No. 2000.  The \\nCommission  notes that the required discussions between SPP and Entergy and \\nits neighboring RTO/TOs has led to no increase in the original scope and \\nconfiguration.  The filings by SPP and Entergy were brief, indicating only a \\nlack of interest by other RTOs or utilities in joining to enlarge scope; they \\nfailed to specify any details of the talks, what changes could be made or \\nwhat could be fixed to accomodate combination with other RTOs.  The order \\nstates that the Commission favors the development of large, regional \\ntransmission organizations reflecting natural markets.  The Commission \\nindicates that they favor four RTOs - NE, SE, MW and West.  Therefore the \\norder requires the participants in SPP and Entergy to participate in \\nsettlement discussions as set out in the mediation order.  Note that these \\nmeetings will start next Tuesday, July 17 before a FERC ALJ.\\n\\nThe Southern Company RTO is also found by the FERC to fail the scope \\ncharacteristics of Order No. 2000.  The order finds that Southern\\'s approach \\nto focus on MOUs and seams issues with its neighbors is inadequate.  The \\norder states, \"We reiterate: the Commission\\'s goal is to have a single RTO in \\nthe Southeast, and to have that single RTO operational as soon as possible.\"  \\nThe Commission recognizes that start-up costs in forming a larger RTO may be \\nmore, but that over the longer term, large RTOs will foster market \\ndevelopment, will provide increased reliability and will result in lower \\nwholesale electricity prices.  The order therefore directs the parties to the \\nmediation as stated above.\\n\\nThe Grid South participants are also directed to the mediation which is \\nstarting on next Tuesday.  It is a lengthier order with more details on other \\naspects of RTOs, including Independent Board requirement, congestion \\nmanagment, interconnection procedures, planning process and CBM.  Therefore, \\nI am attaching a summary of the order.  One of the important findings of the \\norder is that GridSouth is not sufficiently independent; the Applicant TOs \\nare making policy decisions that should be made by an independent board.  \\nTherefore, the order requires GridSouth to install an independent board and \\nfile a compliance filing within 90 days.\\n\\nIf anyone wants copies of the orders, let me know.\\n\\n\\n',\n",
       " u'filename': u'1646.',\n",
       " u'headers': {u'Content-Transfer-Encoding': u'7bit',\n",
       "  u'Content-Type': u'text/plain; charset=us-ascii',\n",
       "  u'Date': datetime.datetime(2001, 7, 13, 14, 47),\n",
       "  u'From': u'donna.fulton@enron.com',\n",
       "  u'Message-ID': u'<8147308.1075851042335.JavaMail.evans@thyme>',\n",
       "  u'Mime-Version': u'1.0',\n",
       "  u'Subject': u'RTO Orders - Grid South, SE Trans, SPP and Entergy',\n",
       "  u'To': [u'steven.kean@enron.com',\n",
       "   u'richard.shapiro@enron.com',\n",
       "   u'james.steffes@enron.com',\n",
       "   u'christi.nicolay@enron.com',\n",
       "   u'sarah.novosel@enron.com',\n",
       "   u'ray.alvarez@enron.com',\n",
       "   u'sscott3@enron.com',\n",
       "   u'joe.connor@enron.com',\n",
       "   u'dan.staines@enron.com',\n",
       "   u'steve.montovano@enron.com',\n",
       "   u'kevin.presto@enron.com',\n",
       "   u'rogers.herndon@enron.com',\n",
       "   u'mike.carson@enron.com',\n",
       "   u'john.forney@enron.com',\n",
       "   u'laura.podurgiel@enron.com',\n",
       "   u'gretchen.lotz@enron.com',\n",
       "   u'juan.hernandez@enron.com',\n",
       "   u'miguel.garcia@enron.com',\n",
       "   u'rudy.acevedo@enron.com',\n",
       "   u'heather.kroll@enron.com',\n",
       "   u'david.fairley@enron.com',\n",
       "   u'elizabeth.johnston@enron.com',\n",
       "   u'bill.rust@enron.com',\n",
       "   u'edward.baughman@enron.com',\n",
       "   u'terri.clynes@enron.com',\n",
       "   u'oscar.dalton@enron.com',\n",
       "   u'doug.sewell@enron.com',\n",
       "   u'larry.valderrama@enron.com',\n",
       "   u'nick.politis@enron.com',\n",
       "   u'fletcher.sturm@enron.com',\n",
       "   u'chris.dorland@enron.com',\n",
       "   u'jeff.king@enron.com',\n",
       "   u'john.kinser@enron.com',\n",
       "   u'matt.lorenz@enron.com',\n",
       "   u'patrick.hansen@enron.com',\n",
       "   u'lloyd.will@enron.com',\n",
       "   u'dduaran@enron.com',\n",
       "   u'john.lavorato@enron.com',\n",
       "   u'louise.kitchen@enron.com',\n",
       "   u'greg.whalley@enron.com',\n",
       "   u'mrpotatohead@10gen.com'],\n",
       "  u'X-FileName': u'skean.nsf',\n",
       "  u'X-Folder': u'\\\\Steven_Kean_Oct2001_2\\\\Notes Folders\\\\Attachments',\n",
       "  u'X-From': u'Donna Fulton',\n",
       "  u'X-Origin': u'KEAN-S',\n",
       "  u'X-To': u'Steven J Kean, Richard Shapiro, James D Steffes, Christi L Nicolay, Sarah Novosel, Ray Alvarez, sscott3@enron.com, Joe Connor, Dan Staines, Steve Montovano, Kevin M Presto, Rogers Herndon, Mike Carson, John M Forney, Laura Podurgiel, Gretchen Lotz, Juan Hernandez, Miguel L Garcia, Rudy Acevedo, Heather Kroll, David Fairley, Elizabeth Johnston, Bill Rust, Edward D Baughman, Terri Clynes, Oscar Dalton, Doug Sewell, Larry Valderrama, Nick Politis, Fletcher J Sturm, Chris Dorland, Jeff King, John Kinser, Matt Lorenz, Patrick Hansen, Lloyd Will, dduaran@enron.com, John J Lavorato, Louise Kitchen, Greg Whalley',\n",
       "  u'X-bcc': u'',\n",
       "  u'X-cc': u''},\n",
       " u'mailbox': u'kean-s',\n",
       " u'subFolder': u'attachments'}"
      ]
     },
     "execution_count": 16,
     "metadata": {},
     "output_type": "execute_result"
    }
   ],
   "source": [
    "db.messages.findOne({\"headers.Message-ID\": \"<8147308.1075851042335.JavaMail.evans@thyme>\"})"
   ]
  },
  {
   "cell_type": "code",
   "execution_count": null,
   "metadata": {
    "collapsed": true
   },
   "outputs": [],
   "source": [
    "db.messages.update({\"headers.Message-ID\": \"<8147308.1075851042335.JavaMail.evans@thyme>\"},{'$push':{'headers.To': 'mrpotatohead@10gen.com'}})"
   ]
  }
 ],
 "metadata": {
  "kernelspec": {
   "display_name": "Python 2",
   "language": "python",
   "name": "python2"
  },
  "language_info": {
   "codemirror_mode": {
    "name": "ipython",
    "version": 2
   },
   "file_extension": ".py",
   "mimetype": "text/x-python",
   "name": "python",
   "nbconvert_exporter": "python",
   "pygments_lexer": "ipython2",
   "version": "2.7.9"
  }
 },
 "nbformat": 4,
 "nbformat_minor": 0
}
